{
 "cells": [
  {
   "cell_type": "markdown",
   "metadata": {},
   "source": [
    "# Lab 1: Set Up the Lab Environment\n",
    "\n",
    "This introductory lab guides the attendees with the following activities:\n",
    "\n",
    "1. Setting up the AI Project in the AI Foundry\n",
    "2. Deploying an LLM and embedding models\n",
    "3. Establish connectivity from VS Code to the AI Project\n",
    "4. Perform a simple Chat completion call to the model"
   ]
  },
  {
   "cell_type": "markdown",
   "metadata": {},
   "source": [
    "#### Step 5: Test your lab environment\n",
    "\n",
    "To test that your lab was setup successfully, run the below code that sends a message to the deployed model, asking it to tell a joke."
   ]
  },
  {
   "cell_type": "code",
   "execution_count": 14,
   "metadata": {},
   "outputs": [
    {
     "data": {
      "text/plain": [
       "True"
      ]
     },
     "execution_count": 14,
     "metadata": {},
     "output_type": "execute_result"
    }
   ],
   "source": [
    "# Import packages\n",
    "import os\n",
    "from azure.ai.projects import AIProjectClient\n",
    "from azure.identity import DefaultAzureCredential\n",
    "from dotenv import load_dotenv\n",
    "\n",
    "\n",
    "load_dotenv(override=True) # Load environment variables from .env file"
   ]
  },
  {
   "cell_type": "code",
   "execution_count": null,
   "metadata": {},
   "outputs": [
    {
     "name": "stdout",
     "output_type": "stream",
     "text": [
      "gpt-4o\n"
     ]
    }
   ],
   "source": [
    "# Get the project connection string and model from environment variables, which are needed to make a call to the LLM\n",
    "endpoint = os.environ.get(\"AIPROJECT_ENDPOINT\", \"https://ai-foundry-demo1.services.ai.azure.com/api/projects/firstProject\")\n",
    "model = os.getenv(\"CHAT_MODEL\")"
   ]
  },
  {
   "cell_type": "code",
   "execution_count": 16,
   "metadata": {},
   "outputs": [],
   "source": [
    "# Use the connection string to connect to your Foundry project\n",
    "project = AIProjectClient(\n",
    "    endpoint=endpoint,\n",
    "    credential=DefaultAzureCredential()\n",
    ")"
   ]
  },
  {
   "cell_type": "code",
   "execution_count": 17,
   "metadata": {},
   "outputs": [
    {
     "name": "stdout",
     "output_type": "stream",
     "text": [
      "Of course! Here's a teddy bear joke for you:\n",
      "\n",
      "Why didn’t the teddy bear eat dessert?  \n",
      "Because it was *stuffed*! 🧸😊\n"
     ]
    }
   ],
   "source": [
    "# Chat with the gpt-4o model\n",
    "chat = project.inference.get_chat_completions_client()\n",
    "response = chat.complete(\n",
    "    model=model,\n",
    "    messages=[\n",
    "        {\n",
    "            \"role\": \"system\",\n",
    "            \"content\": \"You are an AI assistant that tells jokes for toddlers.\",\n",
    "        },\n",
    "        {\"role\": \"user\", \"content\": \"Hey, can you tell a joke about teddy bear?\"},\n",
    "    ],\n",
    ")\n",
    "\n",
    "print(response.choices[0].message.content)"
   ]
  }
 ],
 "metadata": {
  "kernelspec": {
   "display_name": "Python 3",
   "language": "python",
   "name": "python3"
  },
  "language_info": {
   "codemirror_mode": {
    "name": "ipython",
    "version": 3
   },
   "file_extension": ".py",
   "mimetype": "text/x-python",
   "name": "python",
   "nbconvert_exporter": "python",
   "pygments_lexer": "ipython3",
   "version": "3.12.1"
  }
 },
 "nbformat": 4,
 "nbformat_minor": 2
}
