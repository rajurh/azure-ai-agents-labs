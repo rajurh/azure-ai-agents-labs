{
 "cells": [
  {
   "cell_type": "markdown",
   "metadata": {},
   "source": [
    "# Lab 3: Build a Search Agent\n",
    "\n",
    "In this lab, we'll use the Azure AI Agent Service to create an agent that is able to retrieve information from documents stored in Azure AI Search, a vector database. This pattern is known as retrieval augmented generation or RAG. The documents that we'll be searching are health insurance policies."
   ]
  },
  {
   "cell_type": "markdown",
   "metadata": {},
   "source": [
    "#### Step 1: Load packages"
   ]
  },
  {
   "cell_type": "code",
   "execution_count": 10,
   "metadata": {},
   "outputs": [
    {
     "name": "stdout",
     "output_type": "stream",
     "text": [
      "✅ Packages loaded successfully!\n",
      "✅ Ready to configure Azure AI Search\n"
     ]
    }
   ],
   "source": [
    "# %pip install azure-ai-agents --quiet\n",
    "\n",
    "import os\n",
    "from dotenv import load_dotenv\n",
    "from azure.ai.projects import AIProjectClient\n",
    "from azure.identity import DefaultAzureCredential\n",
    "\n",
    "load_dotenv() # Loads the environment variables and credentials we need to setup the agent\n",
    "\n",
    "print(\"✅ Packages loaded successfully!\")\n",
    "print(\"✅ Ready to configure Azure AI Search\")"
   ]
  },
  {
   "cell_type": "markdown",
   "metadata": {},
   "source": [
    "#### Step 2: Connect to your Azure AI Foundry project"
   ]
  },
  {
   "cell_type": "code",
   "execution_count": 11,
   "metadata": {},
   "outputs": [],
   "source": [
    "# Connecting to our Azure AI Foundry project, which will allow us to use the deployed gpt-4o model\n",
    "endpoint = os.environ.get(\"AIPROJECT_ENDPOINT\", \"https://ai-foundry-demo1.services.ai.azure.com/api/projects/firstProject\")\n",
    "model = os.getenv(\"CHAT_MODEL\")\n",
    "\n",
    "project_client = AIProjectClient(\n",
    "    endpoint=endpoint,\n",
    "    credential=DefaultAzureCredential()\n",
    ")"
   ]
  },
  {
   "cell_type": "markdown",
   "metadata": {},
   "source": [
    "#### Step 3: Connect to your Azure AI Search index"
   ]
  },
  {
   "cell_type": "code",
   "execution_count": null,
   "metadata": {},
   "outputs": [
    {
     "name": "stdout",
     "output_type": "stream",
     "text": [
      "Available connections:\n",
      "  - demoazureopenai1223: ConnectionType.AZURE_OPEN_AI\n",
      "⚠️  No Azure AI Search connection found!\n",
      "Available connection types:\n",
      "  - demoazureopenai1223: ConnectionType.AZURE_OPEN_AI\n",
      "⚠️  No Azure AI Search connection found!\n",
      "Available connection types:\n"
     ]
    }
   ],
   "source": [
    "# Get the connections from your project\n",
    "conn_list = project_client.connections.list()\n",
    "search_connection = None\n",
    "\n",
    "print(\"Available connections:\")\n",
    "for conn in conn_list:\n",
    "    # Print connection details for debugging\n",
    "    conn_type = getattr(conn, 'connection_type', None) or getattr(conn, 'type', None)\n",
    "    conn_name = getattr(conn, 'name', 'Unknown')\n",
    "    print(f\"  - {conn_name}: {conn_type}\")\n",
    "    \n",
    "    # Look for Azure AI Search connection\n",
    "    if conn_type and (\"CognitiveSearch\" in str(conn_type) or \"Search\" in str(conn_type)):\n",
    "        search_connection = conn\n",
    "        print(f\"✅ Found Azure AI Search connection: {conn_name} (ID: {conn.id})\")\n",
    "\n",
    "if search_connection:\n",
    "    # Store the connection details for use in agent creation\n",
    "    search_connection_id = search_connection.id\n",
    "    search_index_name = \"health-plan\"  # The index name containing health plan documents\n",
    "    \n",
    "    print(f\"✅ Using connection ID: {search_connection_id}\")\n",
    "    print(f\"✅ Target index: {search_index_name}\")\n",
    "    has_search_connection = True\n",
    "else:\n",
    "    print(\"⚠️  No Azure AI Search connection found!\")\n",
    "    print(\"📝 Note: We'll create a general health plan agent without search indexing.\")\n",
    "    print(\"   In a production setup, you would configure Azure AI Search with health plan documents.\")\n",
    "    has_search_connection = False\n",
    "\n",
    "print(f\"\\n🔧 Configuration complete. Search connection available: {has_search_connection}\")"
   ]
  },
  {
   "cell_type": "markdown",
   "metadata": {},
   "source": [
    "#### Step 4: Define the search agent"
   ]
  },
  {
   "cell_type": "code",
   "execution_count": null,
   "metadata": {},
   "outputs": [],
   "source": [
    "# Create the search agent\n",
    "if has_search_connection:\n",
    "    # Create agent with search capabilities\n",
    "    search_agent = project_client.agents.create_agent(\n",
    "        model=model,\n",
    "        name=\"search-agent\",\n",
    "        instructions=\"\"\"You are a helpful agent that is an expert at searching health plan documents. \n",
    "        You have access to health insurance plan documents and can answer questions about coverage, \n",
    "        benefits, deductibles, and other plan details. Always provide specific information from the \n",
    "        documents when available.\"\"\",\n",
    "        tools=[{\"type\": \"file_search\"}],\n",
    "    )\n",
    "    print(f\"✅ Search-enabled agent created successfully!\")\n",
    "else:\n",
    "    # Create a general health plan agent without search\n",
    "    search_agent = project_client.agents.create_agent(\n",
    "        model=model,\n",
    "        name=\"health-plan-agent\",\n",
    "        instructions=\"\"\"You are a helpful agent that is an expert in health insurance plans. \n",
    "        You can provide general information about health insurance concepts like deductibles, \n",
    "        copays, coverage types, and plan structures. When asked about specific plans like \n",
    "        'Northwind Standard', provide realistic examples of what such a plan might include \n",
    "        based on typical health insurance offerings.\"\"\",\n",
    "    )\n",
    "    print(f\"✅ General health plan agent created successfully!\")\n",
    "\n",
    "print(f\"   Agent ID: {search_agent.id}\")\n",
    "print(f\"   Model: {model}\")\n",
    "print(f\"   Type: {'Search-enabled' if has_search_connection else 'General knowledge'}\")"
   ]
  },
  {
   "cell_type": "markdown",
   "metadata": {},
   "source": [
    "#### Step 5: Chat with the search agent\n",
    "\n",
    "Let's test our search agent by asking it to give us information about the Northwind Standard health plan."
   ]
  },
  {
   "cell_type": "code",
   "execution_count": null,
   "metadata": {},
   "outputs": [],
   "source": [
    "# The name of the health plan we want to search for\n",
    "plan_name = 'Northwind Standard'\n",
    "\n",
    "# Create a thread which is a conversation session between an agent and a user. \n",
    "thread = project_client.agents.threads.create()\n",
    "\n",
    "# Create a message in the thread with the user asking for information about a specific health plan\n",
    "message = project_client.agents.messages.create(\n",
    "    thread_id=thread.id,\n",
    "    role=\"user\",\n",
    "    content=f\"Tell me about the {plan_name} plan.\", # The user's message\n",
    ")\n",
    "\n",
    "# Run the agent to process the message in the thread\n",
    "run = project_client.agents.runs.create_and_process(thread_id=thread.id, agent_id=search_agent.id)\n",
    "\n",
    "# Check if the run was successful\n",
    "if run.status == \"failed\":\n",
    "    print(f\"Run failed: {run.last_error}\")\n",
    "else:\n",
    "    print(f\"✅ Run completed with status: {run.status}\")\n",
    "\n",
    "# Fetch all the messages from the thread\n",
    "messages = project_client.agents.messages.list(thread_id=thread.id)\n",
    "\n",
    "# Get the agent's response\n",
    "agent_response = None\n",
    "for message in messages:\n",
    "    if message.role == \"assistant\":\n",
    "        if hasattr(message, 'content') and message.content:\n",
    "            for content_item in message.content:\n",
    "                if hasattr(content_item, 'text') and content_item.text:\n",
    "                    agent_response = content_item.text.value\n",
    "                    break\n",
    "        break\n",
    "\n",
    "# Display the agent's response\n",
    "if agent_response:\n",
    "    print('\\n📋 Agent Response:')\n",
    "    print(agent_response)\n",
    "else:\n",
    "    print(\"⚠️  No response received from the agent\")\n",
    "\n",
    "# Delete the agent when it's done running\n",
    "project_client.agents.delete_agent(search_agent.id)\n",
    "print(\"\\n✅ Agent deleted successfully\")"
   ]
  }
 ],
 "metadata": {
  "kernelspec": {
   "display_name": "Python 3",
   "language": "python",
   "name": "python3"
  },
  "language_info": {
   "codemirror_mode": {
    "name": "ipython",
    "version": 3
   },
   "file_extension": ".py",
   "mimetype": "text/x-python",
   "name": "python",
   "nbconvert_exporter": "python",
   "pygments_lexer": "ipython3",
   "version": "3.12.1"
  }
 },
 "nbformat": 4,
 "nbformat_minor": 2
}
